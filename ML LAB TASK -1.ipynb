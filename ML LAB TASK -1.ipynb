-{
 "cells": [
  {
   "cell_type": "code",
   "execution_count": 1,
   "id": "cfbfccf4",
   "metadata": {},
   "outputs": [
    {
     "name": "stdout",
     "output_type": "stream",
     "text": [
      "[ 6 14 24 36 50]\n"
     ]
    }
   ],
   "source": [
    "#1Write a NumPy program to multiply two given arrays of same size element-by-element.\n",
    "import numpy as np\n",
    "\n",
    "# Create two arrays\n",
    "arr1 = np.array([1, 2, 3, 4, 5])\n",
    "arr2 = np.array([6, 7, 8, 9, 10])\n",
    "\n",
    "# Multiply element-by-element\n",
    "result = np.multiply(arr1, arr2)\n",
    "\n",
    "# Print the result\n",
    "print(result)"
   ]
  },
  {
   "cell_type": "code",
   "execution_count": 2,
   "id": "97312702",
   "metadata": {},
   "outputs": [
    {
     "name": "stdout",
     "output_type": "stream",
     "text": [
      "Missing values mask:\n",
      " [[False False  True]\n",
      " [False False False]\n",
      " [ True False  True]]\n",
      "Indices of missing values:\n",
      " (array([0, 2, 2], dtype=int64), array([2, 0, 2], dtype=int64))\n",
      "Actual missing values:\n",
      " [nan nan nan]\n"
     ]
    }
   ],
   "source": [
    "#2Write a NumPy program to find the missing data in a given array.\n",
    "import numpy as np\n",
    "\n",
    "# Create a sample array with missing values\n",
    "arr = np.array([[1, 2, np.nan], [4, 5, 6], [np.nan, 7, np.nan]])\n",
    "\n",
    "# Find missing values using np.isnan()\n",
    "missing_values = np.isnan(arr)\n",
    "\n",
    "# Print the boolean array indicating missing values\n",
    "print(\"Missing values mask:\\n\", missing_values)\n",
    "\n",
    "missing_indices = np.where(missing_values)\n",
    "print(\"Indices of missing values:\\n\", missing_indices)\n",
    "\n",
    "actual_missing_values = arr[missing_indices]\n",
    "print(\"Actual missing values:\\n\", actual_missing_values)"
   ]
  },
  {
   "cell_type": "code",
   "execution_count": 3,
   "id": "631934f3",
   "metadata": {},
   "outputs": [
    {
     "name": "stdout",
     "output_type": "stream",
     "text": [
      "Elements in arr1 present in arr2: [False  True False  True False]\n"
     ]
    }
   ],
   "source": [
    "#3Write a NumPy program to test whether each element of a 1-D array is also present in a second array.\n",
    "import numpy as np\n",
    "\n",
    "# Define the arrays\n",
    "arr1 = np.array([1, 2, 3, 4, 5])\n",
    "arr2 = np.array([2, 4, 6, 8, 10])\n",
    "\n",
    "is_present = np.isin(arr1, arr2)\n",
    "\n",
    "# Print the result as a boolean array\n",
    "print(\"Elements in arr1 present in arr2:\", is_present)"
   ]
  },
  {
   "cell_type": "code",
   "execution_count": 4,
   "id": "cde84dbb",
   "metadata": {},
   "outputs": [
    {
     "name": "stdout",
     "output_type": "stream",
     "text": [
      "Arrays saved successfully!\n"
     ]
    }
   ],
   "source": [
    "#4Write a NumPy program to save a NumPy array to a text file.\n",
    "import numpy as np\n",
    "\n",
    "# Define the array\n",
    "arr = np.array([[1, 2, 3], [4, 5, 6], [7, 8, 9]])\n",
    "\n",
    "# Save the array to a text file with space-separated values\n",
    "np.savetxt(\"array.txt\", arr, delimiter=\" \")\n",
    "\n",
    "# Save the array to a text file with comma-separated values\n",
    "np.savetxt(\"array_comma.txt\", arr, delimiter=\",\")\n",
    "\n",
    "print(\"Arrays saved successfully!\")"
   ]
  },
  {
   "cell_type": "code",
   "execution_count": 5,
   "id": "829b3252",
   "metadata": {},
   "outputs": [
    {
     "name": "stdout",
     "output_type": "stream",
     "text": [
      "[2.5        2.63793103 2.77586207 2.9137931  3.05172414 3.18965517\n",
      " 3.32758621 3.46551724 3.60344828 3.74137931 3.87931034 4.01724138\n",
      " 4.15517241 4.29310345 4.43103448 4.56896552 4.70689655 4.84482759\n",
      " 4.98275862 5.12068966 5.25862069 5.39655172 5.53448276 5.67241379\n",
      " 5.81034483 5.94827586 6.0862069  6.22413793 6.36206897 6.5       ]\n"
     ]
    }
   ],
   "source": [
    "#5Write a NumPy program to Create a 1-D array of 30 evenly spaced elements between 2.5. and 6.5, inclusive.\n",
    "import numpy as np\n",
    "\n",
    "# Define the starting and ending points\n",
    "start = 2.5\n",
    "end = 6.5\n",
    "\n",
    "# Calculate the number of elements and spacing\n",
    "num_elements = 30\n",
    "spacing = (end - start) / (num_elements - 1)\n",
    "\n",
    "arr = np.linspace(start, end, num_elements)\n",
    "\n",
    "print(arr)"
   ]
  },
  {
   "cell_type": "code",
   "execution_count": 6,
   "id": "5d85e9f7",
   "metadata": {},
   "outputs": [
    {
     "name": "stdout",
     "output_type": "stream",
     "text": [
      "0       Red\n",
      "1     Green\n",
      "2     White\n",
      "3       Red\n",
      "4     Black\n",
      "5    Yellow\n",
      "dtype: object\n"
     ]
    }
   ],
   "source": [
    "#1Write a Pandas program to convert Series of lists to one Series.\n",
    "import pandas as pd\n",
    "\n",
    "# Create a Series of lists\n",
    "s = pd.Series([['Red', 'Green', 'White'], ['Red', 'Black'], ['Yellow']])\n",
    "\n",
    "# Convert to a single Series\n",
    "single_series = s.apply(pd.Series).stack().reset_index(drop=True)\n",
    "\n",
    "# Print the resulting Series\n",
    "print(single_series)"
   ]
  },
  {
   "cell_type": "code",
   "execution_count": 7,
   "id": "64989341",
   "metadata": {},
   "outputs": [
    {
     "name": "stdout",
     "output_type": "stream",
     "text": [
      "Values greater than 20: 1    25\n",
      "3    30\n",
      "4    45\n",
      "dtype: int64\n",
      "Even numbers: 0    10\n",
      "3    30\n",
      "5    20\n",
      "dtype: int64\n"
     ]
    }
   ],
   "source": [
    "#2Write a Pandas program to create a subset of a given series based on value and condition.\n",
    "import pandas as pd\n",
    "\n",
    "# Create a sample Series\n",
    "s = pd.Series([10, 25, 15, 30, 45, 20])\n",
    "\n",
    "# Create a subset based on value (greater than 20)\n",
    "subset1 = s[s > 20]\n",
    "\n",
    "# Create a subset based on condition (even numbers)\n",
    "subset2 = s[s % 2 == 0]\n",
    "\n",
    "# Print the subsets\n",
    "print(\"Values greater than 20:\", subset1)\n",
    "print(\"Even numbers:\", subset2)"
   ]
  },
  {
   "cell_type": "code",
   "execution_count": 8,
   "id": "089f16b7",
   "metadata": {},
   "outputs": [
    {
     "name": "stdout",
     "output_type": "stream",
     "text": [
      "Most frequent value: Apple\n",
      "Modified Series: 0    Apple\n",
      "1    Other\n",
      "2    Apple\n",
      "3    Other\n",
      "4    Apple\n",
      "5    Other\n",
      "6    Other\n",
      "dtype: object\n"
     ]
    }
   ],
   "source": [
    "#3Write a Pandas program to display most frequent value in a given series and replace everything else as 'Other' in the series.\n",
    "import pandas as pd\n",
    "\n",
    "# Create a sample Series\n",
    "s = pd.Series(['Apple', 'Banana', 'Apple', 'Orange', 'Apple', 'Mango', 'Banana'])\n",
    "\n",
    "most_frequent = s.value_counts().index[0]\n",
    "\n",
    "\n",
    "s[~s.isin(s.value_counts().index[:1])] = 'Other'\n",
    "\n",
    "# Print the modified Series\n",
    "print(\"Most frequent value:\", most_frequent)\n",
    "print(\"Modified Series:\", s)"
   ]
  },
  {
   "cell_type": "code",
   "execution_count": 9,
   "id": "4656b1ad",
   "metadata": {},
   "outputs": [
    {
     "name": "stdout",
     "output_type": "stream",
     "text": [
      "Positions of multiples of 5: Index([0, 1, 2, 3, 4, 5], dtype='int64')\n"
     ]
    }
   ],
   "source": [
    "#4Write a Pandas program to find the positions of numbers that are multiples of 5 of a given series.\n",
    "import pandas as pd\n",
    "\n",
    "# Create a sample Series\n",
    "s = pd.Series([10, 25, 15, 30, 45, 20])\n",
    "\n",
    "# Find positions of multiples of 5\n",
    "positions = s.index[s % 5 == 0]\n",
    "\n",
    "# Print the positions\n",
    "print(\"Positions of multiples of 5:\", positions)"
   ]
  },
  {
   "cell_type": "code",
   "execution_count": 10,
   "id": "c108c6ca",
   "metadata": {},
   "outputs": [
    {
     "name": "stdout",
     "output_type": "stream",
     "text": [
      "Character counts: 0    5\n",
      "1    5\n",
      "2    4\n",
      "3    2\n",
      "4    1\n",
      "5    6\n",
      "6    6\n",
      "dtype: int64\n"
     ]
    }
   ],
   "source": [
    "#5Write a Pandas program to calculate the number of characters in each word in a given series.\n",
    "import pandas as pd\n",
    "\n",
    "\n",
    "s = pd.Series(['Hello', 'World', 'This', 'is', 'a', 'Pandas', 'Series'])\n",
    "\n",
    "# Calculate character count using str.len()\n",
    "char_counts = s.str.len()\n",
    "\n",
    "# Print the character counts\n",
    "print(\"Character counts:\", char_counts)"
   ]
  },
  {
   "cell_type": "code",
   "execution_count": 12,
   "id": "836042a3",
   "metadata": {},
   "outputs": [
    {
     "name": "stdout",
     "output_type": "stream",
     "text": [
      "Dates with added day: 0   2023-01-16\n",
      "1   2024-02-16\n",
      "2   2025-03-16\n",
      "dtype: datetime64[ns]\n"
     ]
    }
   ],
   "source": [
    "#6Write a Pandas program to convert year-month string to dates adding a specified day of the month.\n",
    "import pandas as pd\n",
    "\n",
    "# Sample data\n",
    "data = [\"2023-01\", \"2024-02\", \"2025-03\"]\n",
    "\n",
    "# Create a Series\n",
    "s = pd.Series(data)\n",
    "\n",
    "day = 15\n",
    "\n",
    "dates = pd.to_datetime(s, format=\"%Y-%m\")\n",
    "\n",
    "\n",
    "dates += pd.to_timedelta(day, unit=\"D\")\n",
    "\n",
    "# Print the resulting dates\n",
    "print(\"Dates with added day:\", dates)"
   ]
  },
  {
   "cell_type": "code",
   "execution_count": 13,
   "id": "3e33de6b",
   "metadata": {},
   "outputs": [
    {
     "name": "stdout",
     "output_type": "stream",
     "text": [
      "             Name  Age      City\n",
      "Person 1    Alice   25  New York\n",
      "Person 2      Bob   30    London\n",
      "Person 3  Charlie   35     Paris\n"
     ]
    }
   ],
   "source": [
    "#7Write a Pandas program to create and display a DataFrame from a specified dictionary data which has the index labels.\n",
    "import pandas as pd\n",
    "\n",
    "# Sample dictionary with index labels\n",
    "data = {\n",
    "    \"Name\": [\"Alice\", \"Bob\", \"Charlie\"],\n",
    "    \"Age\": [25, 30, 35],\n",
    "    \"City\": [\"New York\", \"London\", \"Paris\"],\n",
    "}\n",
    "\n",
    "# Create DataFrame with specified index labels\n",
    "index_labels = [\"Person 1\", \"Person 2\", \"Person 3\"]\n",
    "df = pd.DataFrame(data, index=index_labels)\n",
    "\n",
    "# Display the DataFrame\n",
    "print(df)"
   ]
  },
  {
   "cell_type": "code",
   "execution_count": 15,
   "id": "d645db0c",
   "metadata": {},
   "outputs": [
    {
     "name": "stdout",
     "output_type": "stream",
     "text": [
      "Original DataFrame:\n",
      "   Student  Attempts\n",
      "0    Alice         1\n",
      "1      Bob         3\n",
      "2  Charlie         2\n",
      "3    David         4\n",
      "\n",
      "Rows where the number of attempts is greater than 2:\n",
      "  Student  Attempts\n",
      "1     Bob         3\n",
      "3   David         4\n"
     ]
    }
   ],
   "source": [
    "#8 Write a Pandas program to select the rows where the number of attempts in theexamination is greater than 2.\n",
    "import pandas as pd\n",
    "\n",
    "# Sample DataFrame\n",
    "data = {'Student': ['Alice', 'Bob', 'Charlie', 'David'],\n",
    "        'Attempts': [1, 3, 2, 4]}\n",
    "\n",
    "df = pd.DataFrame(data)\n",
    "\n",
    "# Select rows where the number of attempts is greater than 2\n",
    "selected_rows = df[df['Attempts'] > 2]\n",
    "\n",
    "print(\"Original DataFrame:\")\n",
    "print(df)\n",
    "print(\"\\nRows where the number of attempts is greater than 2:\")\n",
    "print(selected_rows)"
   ]
  },
  {
   "cell_type": "code",
   "execution_count": 17,
   "id": "d1214d4b",
   "metadata": {},
   "outputs": [],
   "source": [
    "import warnings\n",
    "warnings.filterwarnings('ignore')"
   ]
  },
  {
   "cell_type": "code",
   "execution_count": 18,
   "id": "95e9a05b",
   "metadata": {},
   "outputs": [
    {
     "ename": "AttributeError",
     "evalue": "'DataFrame' object has no attribute 'append'",
     "output_type": "error",
     "traceback": [
      "\u001b[1;31m---------------------------------------------------------------------------\u001b[0m",
      "\u001b[1;31mAttributeError\u001b[0m                            Traceback (most recent call last)",
      "\u001b[1;32m~\\AppData\\Local\\Temp\\ipykernel_3972\\286662059.py\u001b[0m in \u001b[0;36m?\u001b[1;34m()\u001b[0m\n\u001b[0;32m      7\u001b[0m \u001b[1;31m# Values for the new row\u001b[0m\u001b[1;33m\u001b[0m\u001b[1;33m\u001b[0m\u001b[0m\n\u001b[0;32m      8\u001b[0m \u001b[0mnew_row_values\u001b[0m \u001b[1;33m=\u001b[0m \u001b[1;33m{\u001b[0m\u001b[1;34m'A'\u001b[0m\u001b[1;33m:\u001b[0m \u001b[1;36m10\u001b[0m\u001b[1;33m,\u001b[0m \u001b[1;34m'B'\u001b[0m\u001b[1;33m:\u001b[0m \u001b[1;36m11\u001b[0m\u001b[1;33m,\u001b[0m \u001b[1;34m'C'\u001b[0m\u001b[1;33m:\u001b[0m \u001b[1;36m12\u001b[0m\u001b[1;33m}\u001b[0m\u001b[1;33m\u001b[0m\u001b[1;33m\u001b[0m\u001b[0m\n\u001b[0;32m      9\u001b[0m \u001b[1;33m\u001b[0m\u001b[0m\n\u001b[0;32m     10\u001b[0m \u001b[1;31m# Append the new row\u001b[0m\u001b[1;33m\u001b[0m\u001b[1;33m\u001b[0m\u001b[0m\n\u001b[1;32m---> 11\u001b[1;33m \u001b[0mdf\u001b[0m \u001b[1;33m=\u001b[0m \u001b[0mdf\u001b[0m\u001b[1;33m.\u001b[0m\u001b[0mappend\u001b[0m\u001b[1;33m(\u001b[0m\u001b[0mnew_row_values\u001b[0m\u001b[1;33m,\u001b[0m \u001b[0mignore_index\u001b[0m\u001b[1;33m=\u001b[0m\u001b[1;32mTrue\u001b[0m\u001b[1;33m)\u001b[0m\u001b[1;33m\u001b[0m\u001b[1;33m\u001b[0m\u001b[0m\n\u001b[0m\u001b[0;32m     12\u001b[0m \u001b[1;33m\u001b[0m\u001b[0m\n\u001b[0;32m     13\u001b[0m \u001b[1;31m# Display the DataFrame with the new row\u001b[0m\u001b[1;33m\u001b[0m\u001b[1;33m\u001b[0m\u001b[0m\n\u001b[0;32m     14\u001b[0m \u001b[0mprint\u001b[0m\u001b[1;33m(\u001b[0m\u001b[1;34m\"DataFrame with new row:\\n\"\u001b[0m\u001b[1;33m,\u001b[0m \u001b[0mdf\u001b[0m\u001b[1;33m)\u001b[0m\u001b[1;33m\u001b[0m\u001b[1;33m\u001b[0m\u001b[0m\n",
      "\u001b[1;32m~\\anaconda3\\Lib\\site-packages\\pandas\\core\\generic.py\u001b[0m in \u001b[0;36m?\u001b[1;34m(self, name)\u001b[0m\n\u001b[0;32m   5985\u001b[0m             \u001b[1;32mand\u001b[0m \u001b[0mname\u001b[0m \u001b[1;32mnot\u001b[0m \u001b[1;32min\u001b[0m \u001b[0mself\u001b[0m\u001b[1;33m.\u001b[0m\u001b[0m_accessors\u001b[0m\u001b[1;33m\u001b[0m\u001b[1;33m\u001b[0m\u001b[0m\n\u001b[0;32m   5986\u001b[0m             \u001b[1;32mand\u001b[0m \u001b[0mself\u001b[0m\u001b[1;33m.\u001b[0m\u001b[0m_info_axis\u001b[0m\u001b[1;33m.\u001b[0m\u001b[0m_can_hold_identifiers_and_holds_name\u001b[0m\u001b[1;33m(\u001b[0m\u001b[0mname\u001b[0m\u001b[1;33m)\u001b[0m\u001b[1;33m\u001b[0m\u001b[1;33m\u001b[0m\u001b[0m\n\u001b[0;32m   5987\u001b[0m         ):\n\u001b[0;32m   5988\u001b[0m             \u001b[1;32mreturn\u001b[0m \u001b[0mself\u001b[0m\u001b[1;33m[\u001b[0m\u001b[0mname\u001b[0m\u001b[1;33m]\u001b[0m\u001b[1;33m\u001b[0m\u001b[1;33m\u001b[0m\u001b[0m\n\u001b[1;32m-> 5989\u001b[1;33m         \u001b[1;32mreturn\u001b[0m \u001b[0mobject\u001b[0m\u001b[1;33m.\u001b[0m\u001b[0m__getattribute__\u001b[0m\u001b[1;33m(\u001b[0m\u001b[0mself\u001b[0m\u001b[1;33m,\u001b[0m \u001b[0mname\u001b[0m\u001b[1;33m)\u001b[0m\u001b[1;33m\u001b[0m\u001b[1;33m\u001b[0m\u001b[0m\n\u001b[0m",
      "\u001b[1;31mAttributeError\u001b[0m: 'DataFrame' object has no attribute 'append'"
     ]
    }
   ],
   "source": []
  },
  {
   "cell_type": "code",
   "execution_count": 19,
   "id": "2226636f",
   "metadata": {},
   "outputs": [],
   "source": [
    "import warnings\n",
    "warnings.filterwarnings('ignore')"
   ]
  },
  {
   "cell_type": "code",
   "execution_count": 42,
   "id": "5c1dd827",
   "metadata": {},
   "outputs": [
    {
     "ename": "AttributeError",
     "evalue": "'DataFrame' object has no attribute 'append'",
     "output_type": "error",
     "traceback": [
      "\u001b[1;31m---------------------------------------------------------------------------\u001b[0m",
      "\u001b[1;31mAttributeError\u001b[0m                            Traceback (most recent call last)",
      "\u001b[1;32m~\\AppData\\Local\\Temp\\ipykernel_3972\\1098067869.py\u001b[0m in \u001b[0;36m?\u001b[1;34m()\u001b[0m\n\u001b[0;32m      6\u001b[0m \u001b[0mdf\u001b[0m\u001b[1;33m\u001b[0m\u001b[1;33m\u001b[0m\u001b[0m\n\u001b[0;32m      7\u001b[0m \u001b[1;31m# Values for the new row\u001b[0m\u001b[1;33m\u001b[0m\u001b[1;33m\u001b[0m\u001b[0m\n\u001b[0;32m      8\u001b[0m \u001b[0mnew_row_values\u001b[0m \u001b[1;33m=\u001b[0m \u001b[1;33m{\u001b[0m\u001b[1;34m'A'\u001b[0m\u001b[1;33m:\u001b[0m \u001b[1;36m10\u001b[0m\u001b[1;33m,\u001b[0m \u001b[1;34m'B'\u001b[0m\u001b[1;33m:\u001b[0m \u001b[1;36m11\u001b[0m\u001b[1;33m,\u001b[0m \u001b[1;34m'C'\u001b[0m\u001b[1;33m:\u001b[0m \u001b[1;36m12\u001b[0m\u001b[1;33m}\u001b[0m\u001b[1;33m\u001b[0m\u001b[1;33m\u001b[0m\u001b[0m\n\u001b[0;32m      9\u001b[0m \u001b[0mnew_row_values\u001b[0m\u001b[1;33m=\u001b[0m\u001b[0mpd\u001b[0m\u001b[1;33m.\u001b[0m\u001b[0mDataFrame\u001b[0m\u001b[1;33m(\u001b[0m\u001b[1;33m[\u001b[0m\u001b[0mnew_row_values\u001b[0m\u001b[1;33m]\u001b[0m\u001b[1;33m)\u001b[0m\u001b[1;33m\u001b[0m\u001b[1;33m\u001b[0m\u001b[0m\n\u001b[1;32m---> 10\u001b[1;33m \u001b[0mdf\u001b[0m\u001b[1;33m=\u001b[0m\u001b[0mdf\u001b[0m\u001b[1;33m.\u001b[0m\u001b[0mappend\u001b[0m\u001b[1;33m(\u001b[0m\u001b[0mnew_row_values\u001b[0m\u001b[1;33m,\u001b[0m\u001b[0mignore_index\u001b[0m\u001b[1;33m=\u001b[0m\u001b[1;32mTrue\u001b[0m\u001b[1;33m)\u001b[0m\u001b[1;33m\u001b[0m\u001b[1;33m\u001b[0m\u001b[0m\n\u001b[0m\u001b[0;32m     11\u001b[0m \u001b[1;33m\u001b[0m\u001b[0m\n\u001b[0;32m     12\u001b[0m \u001b[1;31m# df = pd.DataFrame([new_row_values]).concat(df, ignore_index=True)\u001b[0m\u001b[1;33m\u001b[0m\u001b[1;33m\u001b[0m\u001b[0m\n\u001b[0;32m     13\u001b[0m \u001b[0mnew_row_values\u001b[0m\u001b[1;33m\u001b[0m\u001b[1;33m\u001b[0m\u001b[0m\n",
      "\u001b[1;32m~\\anaconda3\\Lib\\site-packages\\pandas\\core\\generic.py\u001b[0m in \u001b[0;36m?\u001b[1;34m(self, name)\u001b[0m\n\u001b[0;32m   5985\u001b[0m             \u001b[1;32mand\u001b[0m \u001b[0mname\u001b[0m \u001b[1;32mnot\u001b[0m \u001b[1;32min\u001b[0m \u001b[0mself\u001b[0m\u001b[1;33m.\u001b[0m\u001b[0m_accessors\u001b[0m\u001b[1;33m\u001b[0m\u001b[1;33m\u001b[0m\u001b[0m\n\u001b[0;32m   5986\u001b[0m             \u001b[1;32mand\u001b[0m \u001b[0mself\u001b[0m\u001b[1;33m.\u001b[0m\u001b[0m_info_axis\u001b[0m\u001b[1;33m.\u001b[0m\u001b[0m_can_hold_identifiers_and_holds_name\u001b[0m\u001b[1;33m(\u001b[0m\u001b[0mname\u001b[0m\u001b[1;33m)\u001b[0m\u001b[1;33m\u001b[0m\u001b[1;33m\u001b[0m\u001b[0m\n\u001b[0;32m   5987\u001b[0m         ):\n\u001b[0;32m   5988\u001b[0m             \u001b[1;32mreturn\u001b[0m \u001b[0mself\u001b[0m\u001b[1;33m[\u001b[0m\u001b[0mname\u001b[0m\u001b[1;33m]\u001b[0m\u001b[1;33m\u001b[0m\u001b[1;33m\u001b[0m\u001b[0m\n\u001b[1;32m-> 5989\u001b[1;33m         \u001b[1;32mreturn\u001b[0m \u001b[0mobject\u001b[0m\u001b[1;33m.\u001b[0m\u001b[0m__getattribute__\u001b[0m\u001b[1;33m(\u001b[0m\u001b[0mself\u001b[0m\u001b[1;33m,\u001b[0m \u001b[0mname\u001b[0m\u001b[1;33m)\u001b[0m\u001b[1;33m\u001b[0m\u001b[1;33m\u001b[0m\u001b[0m\n\u001b[0m",
      "\u001b[1;31mAttributeError\u001b[0m: 'DataFrame' object has no attribute 'append'"
     ]
    }
   ],
   "source": [
    "#9Write a Pandas program to append a new row 'k' to data frame with given values for each column. Now delete the new row and return the original DataFrame.\n",
    "import pandas as pd\n",
    "\n",
    "# Sample DataFrame\n",
    "df = pd.DataFrame({'A': [1, 2, 3], 'B': [4, 5, 6], 'C': [7, 8, 9]})\n",
    "df\n",
    "# Values for the new row\n",
    "new_row_values = {'A': 10, 'B': 11, 'C': 12}\n",
    "new_row_values=pd.DataFrame([new_row_values])\n",
    "df=df.append(new_row_values,ignore_index=True)\n",
    "\n",
    "# df = pd.DataFrame([new_row_values]).concat(df, ignore_index=True)\n",
    "new_row_values\n",
    "# Display the DataFrame with the new row\n",
    "print(\"DataFrame with new row:\\n\", df)\n",
    "\n",
    "# Delete the new row and return the original DataFrame\n",
    "df = df.iloc[:-1]  # Keep all rows except the last one\n",
    "\n",
    "# Display the original DataFrame\n",
    "print(\"\\nOriginal DataFrame:\\n\", df)\n",
    "new_row_values"
   ]
  },
  {
   "cell_type": "code",
   "execution_count": 21,
   "id": "99df5386",
   "metadata": {},
   "outputs": [
    {
     "name": "stdout",
     "output_type": "stream",
     "text": [
      "      name  score\n",
      "4      Eve     95\n",
      "3    David     80\n",
      "2  Charlie     75\n",
      "1      Bob     85\n",
      "0    Alice     90\n"
     ]
    }
   ],
   "source": [
    "#10Write a Pandas program to sort the DataFrame first by 'name' in descending order, then by &#39;score&#39; in ascending order.\n",
    "import pandas as pd\n",
    "\n",
    "# Sample DataFrame\n",
    "data = {'name': ['Alice', 'Bob', 'Charlie', 'David', 'Eve'],\n",
    "        'score': [90, 85, 75, 80, 95]}\n",
    "df = pd.DataFrame(data)\n",
    "\n",
    "# Sort by 'name' in descending order and then by 'score' in ascending order\n",
    "df = df.sort_values(by=['name', 'score'], ascending=[False, True])\n",
    "\n",
    "# Display the sorted DataFrame\n",
    "print(df)"
   ]
  },
  {
   "cell_type": "code",
   "execution_count": 22,
   "id": "378454cc",
   "metadata": {},
   "outputs": [
    {
     "name": "stdout",
     "output_type": "stream",
     "text": [
      "      name  score  qualify\n",
      "0    Alice     90     True\n",
      "1      Bob     85    False\n",
      "2  Charlie     75     True\n",
      "3    David     80    False\n",
      "4      Eve     95     True\n"
     ]
    }
   ],
   "source": [
    "#11Write a Pandas program to replace the 'qualify' column contains the values 'yes' and 'no' with True and False.\n",
    "import pandas as pd\n",
    "\n",
    "# Sample DataFrame with 'qualify' column\n",
    "data = {'name': ['Alice', 'Bob', 'Charlie', 'David', 'Eve'],\n",
    "        'score': [90, 85, 75, 80, 95],\n",
    "        'qualify': ['yes', 'no', 'yes', 'no', 'yes']}\n",
    "df = pd.DataFrame(data)\n",
    "\n",
    "# Replace 'yes' with True and 'no' with False in 'qualify'\n",
    "df['qualify'] = df['qualify'].replace({'yes': True, 'no': False})\n",
    "\n",
    "# Display the modified DataFrame\n",
    "print(df)"
   ]
  },
  {
   "cell_type": "code",
   "execution_count": 23,
   "id": "4b002585",
   "metadata": {},
   "outputs": [
    {
     "name": "stdout",
     "output_type": "stream",
     "text": [
      "   col1  col2\n",
      "0   1.0   4.0\n"
     ]
    }
   ],
   "source": [
    "#12Write a Pandas program to remove infinite values from a given DataFrame.\n",
    "import pandas as pd\n",
    "import numpy as np\n",
    "\n",
    "# Sample DataFrame with infinite values\n",
    "data = {'col1': [1, np.inf, 3, np.nan, -np.inf],\n",
    "        'col2': [4, 5, np.inf, 7, 8]}\n",
    "df = pd.DataFrame(data)\n",
    "\n",
    "# Replace infinite values with NaN\n",
    "df = df.replace([np.inf, -np.inf], np.nan)\n",
    "\n",
    "# Drop rows with NaN values\n",
    "df = df.dropna()\n",
    "\n",
    "# Display the DataFrame without infinite values\n",
    "print(df)\n"
   ]
  },
  {
   "cell_type": "code",
   "execution_count": null,
   "id": "eb404b41",
   "metadata": {},
   "outputs": [],
   "source": []
  }
 ],
 "metadata": {
  "kernelspec": {
   "display_name": "Python 3 (ipykernel)",
   "language": "python",
   "name": "python3"
  },
  "language_info": {
   "codemirror_mode": {
    "name": "ipython",
    "version": 3
   },
   "file_extension": ".py",
   "mimetype": "text/x-python",
   "name": "python",
   "nbconvert_exporter": "python",
   "pygments_lexer": "ipython3",
   "version": "3.11.5"
  }
 },
 "nbformat": 4,
 "nbformat_minor": 5
}
